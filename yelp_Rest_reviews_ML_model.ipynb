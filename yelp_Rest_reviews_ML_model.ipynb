{
 "cells": [
  {
   "cell_type": "markdown",
   "id": "cba1bf38-2764-4ceb-a651-8ece6df267d9",
   "metadata": {},
   "source": [
    "### Import libraries"
   ]
  },
  {
   "cell_type": "code",
   "execution_count": 60,
   "id": "9f864880-7799-4a83-a599-813840d540e7",
   "metadata": {},
   "outputs": [],
   "source": [
    "import pandas as pd\n",
    "import numpy as np\n",
    "import seaborn as sns\n",
    "import matplotlib.pyplot as plt\n",
    "from datetime import datetime\n",
    "from google.cloud.bigquery import Client, QueryJobConfig\n",
    "from sklearn.utils import resample, shuffle\n",
    "%matplotlib inline"
   ]
  },
  {
   "cell_type": "markdown",
   "id": "0f7f3e5a-bcc7-4569-84a5-5136bf6e6710",
   "metadata": {},
   "source": [
    "### Read and filter data from bigquerry\n",
    "Get all the Pizza restaurants data after 2012-01-01."
   ]
  },
  {
   "cell_type": "code",
   "execution_count": 62,
   "id": "1152ad53-9950-4b3e-b3fd-2ff11846e6be",
   "metadata": {},
   "outputs": [],
   "source": [
    "client = Client()\n",
    "\n",
    "query = \"\"\"SELECT r.text, r.stars, r.date,\n",
    "                  b.categories, b.city, b.state, b.is_open\n",
    "            FROM `valiant-song-371916.yelp.reviews` as r\n",
    "            INNER JOIN `valiant-song-371916.yelp.business` as b\n",
    "            ON b.business_id = r.business_id\n",
    "            WHERE regexp_contains(categories, '(?i)(Restaurants)')\n",
    "            AND regexp_contains(categories, '(?i)(Pizza)')\n",
    "            AND DATE(r.date) >= '2012-01-01'\n",
    "\"\"\"\n",
    "\n",
    "reviews = client.query(query).to_dataframe()"
   ]
  },
  {
   "cell_type": "code",
   "execution_count": 63,
   "id": "7b0d3c48-20ac-42e3-a671-96cfe2d451f9",
   "metadata": {},
   "outputs": [
    {
     "name": "stdout",
     "output_type": "stream",
     "text": [
      "<class 'pandas.core.frame.DataFrame'>\n",
      "RangeIndex: 443436 entries, 0 to 443435\n",
      "Data columns (total 7 columns):\n",
      " #   Column      Non-Null Count   Dtype              \n",
      "---  ------      --------------   -----              \n",
      " 0   text        443436 non-null  object             \n",
      " 1   stars       443436 non-null  float64            \n",
      " 2   date        443436 non-null  datetime64[ns, UTC]\n",
      " 3   categories  443436 non-null  object             \n",
      " 4   city        443436 non-null  object             \n",
      " 5   state       443436 non-null  object             \n",
      " 6   is_open     443436 non-null  Int64              \n",
      "dtypes: Int64(1), datetime64[ns, UTC](1), float64(1), object(4)\n",
      "memory usage: 24.1+ MB\n"
     ]
    }
   ],
   "source": [
    "reviews.info()"
   ]
  },
  {
   "cell_type": "code",
   "execution_count": 64,
   "id": "3bcb67f1-d048-4b84-b649-e2565362cf7c",
   "metadata": {},
   "outputs": [
    {
     "data": {
      "text/plain": [
       "text          0\n",
       "stars         0\n",
       "date          0\n",
       "categories    0\n",
       "city          0\n",
       "state         0\n",
       "is_open       0\n",
       "dtype: int64"
      ]
     },
     "execution_count": 64,
     "metadata": {},
     "output_type": "execute_result"
    }
   ],
   "source": [
    "reviews.isna().sum()"
   ]
  },
  {
   "cell_type": "code",
   "execution_count": 65,
   "id": "b132c566-e139-4754-9b0d-4d58efd50101",
   "metadata": {},
   "outputs": [
    {
     "data": {
      "text/html": [
       "<div>\n",
       "<style scoped>\n",
       "    .dataframe tbody tr th:only-of-type {\n",
       "        vertical-align: middle;\n",
       "    }\n",
       "\n",
       "    .dataframe tbody tr th {\n",
       "        vertical-align: top;\n",
       "    }\n",
       "\n",
       "    .dataframe thead th {\n",
       "        text-align: right;\n",
       "    }\n",
       "</style>\n",
       "<table border=\"1\" class=\"dataframe\">\n",
       "  <thead>\n",
       "    <tr style=\"text-align: right;\">\n",
       "      <th></th>\n",
       "      <th>text</th>\n",
       "      <th>stars</th>\n",
       "      <th>date</th>\n",
       "      <th>categories</th>\n",
       "      <th>city</th>\n",
       "      <th>state</th>\n",
       "      <th>is_open</th>\n",
       "    </tr>\n",
       "  </thead>\n",
       "  <tbody>\n",
       "    <tr>\n",
       "      <th>0</th>\n",
       "      <td>What is happening at Ralph's?  Their pizza is ...</td>\n",
       "      <td>2.0</td>\n",
       "      <td>2020-08-31 01:19:16+00:00</td>\n",
       "      <td>Sandwiches, Restaurants, Pizza, Italian</td>\n",
       "      <td>Haddon Heights</td>\n",
       "      <td>NJ</td>\n",
       "      <td>1</td>\n",
       "    </tr>\n",
       "    <tr>\n",
       "      <th>1</th>\n",
       "      <td>First time in Indianapolis and first time here...</td>\n",
       "      <td>2.0</td>\n",
       "      <td>2021-06-07 11:42:25+00:00</td>\n",
       "      <td>American (Traditional), Bars, Sandwiches, Nigh...</td>\n",
       "      <td>Fishers</td>\n",
       "      <td>IN</td>\n",
       "      <td>1</td>\n",
       "    </tr>\n",
       "    <tr>\n",
       "      <th>2</th>\n",
       "      <td>I ordered a large half pepperoni and half chee...</td>\n",
       "      <td>2.0</td>\n",
       "      <td>2019-07-13 20:49:32+00:00</td>\n",
       "      <td>Restaurants, Pizza</td>\n",
       "      <td>Trenton</td>\n",
       "      <td>NJ</td>\n",
       "      <td>1</td>\n",
       "    </tr>\n",
       "    <tr>\n",
       "      <th>3</th>\n",
       "      <td>The boyfriend loved it but I was not a fan of ...</td>\n",
       "      <td>2.0</td>\n",
       "      <td>2013-10-09 19:51:19+00:00</td>\n",
       "      <td>Restaurants, Pizza</td>\n",
       "      <td>Wynnewood</td>\n",
       "      <td>PA</td>\n",
       "      <td>0</td>\n",
       "    </tr>\n",
       "    <tr>\n",
       "      <th>4</th>\n",
       "      <td>I grew up eating at this place at least once a...</td>\n",
       "      <td>2.0</td>\n",
       "      <td>2015-02-21 02:36:54+00:00</td>\n",
       "      <td>Restaurants, Pizza</td>\n",
       "      <td>Bryn Mawr</td>\n",
       "      <td>PA</td>\n",
       "      <td>0</td>\n",
       "    </tr>\n",
       "  </tbody>\n",
       "</table>\n",
       "</div>"
      ],
      "text/plain": [
       "                                                text  stars  \\\n",
       "0  What is happening at Ralph's?  Their pizza is ...    2.0   \n",
       "1  First time in Indianapolis and first time here...    2.0   \n",
       "2  I ordered a large half pepperoni and half chee...    2.0   \n",
       "3  The boyfriend loved it but I was not a fan of ...    2.0   \n",
       "4  I grew up eating at this place at least once a...    2.0   \n",
       "\n",
       "                       date  \\\n",
       "0 2020-08-31 01:19:16+00:00   \n",
       "1 2021-06-07 11:42:25+00:00   \n",
       "2 2019-07-13 20:49:32+00:00   \n",
       "3 2013-10-09 19:51:19+00:00   \n",
       "4 2015-02-21 02:36:54+00:00   \n",
       "\n",
       "                                          categories            city state  \\\n",
       "0            Sandwiches, Restaurants, Pizza, Italian  Haddon Heights    NJ   \n",
       "1  American (Traditional), Bars, Sandwiches, Nigh...         Fishers    IN   \n",
       "2                                 Restaurants, Pizza         Trenton    NJ   \n",
       "3                                 Restaurants, Pizza       Wynnewood    PA   \n",
       "4                                 Restaurants, Pizza       Bryn Mawr    PA   \n",
       "\n",
       "   is_open  \n",
       "0        1  \n",
       "1        1  \n",
       "2        1  \n",
       "3        0  \n",
       "4        0  "
      ]
     },
     "execution_count": 65,
     "metadata": {},
     "output_type": "execute_result"
    }
   ],
   "source": [
    "reviews.head(5)"
   ]
  },
  {
   "cell_type": "markdown",
   "id": "7a5a631b-8892-473d-9ec4-18810525f74a",
   "metadata": {},
   "source": [
    "### Data Exploration"
   ]
  },
  {
   "cell_type": "code",
   "execution_count": 66,
   "id": "42feb98b-e54e-459a-ae23-51a006aa5c33",
   "metadata": {},
   "outputs": [
    {
     "name": "stdout",
     "output_type": "stream",
     "text": [
      "5.0    194049\n",
      "4.0     96732\n",
      "1.0     68176\n",
      "3.0     45769\n",
      "2.0     38710\n",
      "Name: stars, dtype: int64\n"
     ]
    },
    {
     "data": {
      "image/png": "[encoded data removed]",
      "text/plain": [
       "<Figure size 640x480 with 1 Axes>"
      ]
     },
     "metadata": {},
     "output_type": "display_data"
    }
   ],
   "source": [
    "sns.countplot(x = reviews['stars'])\n",
    "print(reviews['stars'].value_counts())"
   ]
  },
  {
   "cell_type": "markdown",
   "id": "681e6aab-330e-48ba-bc22-428941339e03",
   "metadata": {},
   "source": [
    "Create a sentiment feature based on the rating"
   ]
  },
  {
   "cell_type": "code",
   "execution_count": 67,
   "id": "d6649856-90ea-4417-9183-972913f923c3",
   "metadata": {},
   "outputs": [],
   "source": [
    "reviews['sentiment']= reviews['stars'].apply(lambda x: 0 if x<=3 else 1)"
   ]
  },
  {
   "cell_type": "code",
   "execution_count": 68,
   "id": "002efa90-080b-48c7-adce-894b9c181e98",
   "metadata": {},
   "outputs": [
    {
     "data": {
      "text/html": [
       "<div>\n",
       "<style scoped>\n",
       "    .dataframe tbody tr th:only-of-type {\n",
       "        vertical-align: middle;\n",
       "    }\n",
       "\n",
       "    .dataframe tbody tr th {\n",
       "        vertical-align: top;\n",
       "    }\n",
       "\n",
       "    .dataframe thead th {\n",
       "        text-align: right;\n",
       "    }\n",
       "</style>\n",
       "<table border=\"1\" class=\"dataframe\">\n",
       "  <thead>\n",
       "    <tr style=\"text-align: right;\">\n",
       "      <th></th>\n",
       "      <th>text</th>\n",
       "      <th>stars</th>\n",
       "      <th>date</th>\n",
       "      <th>categories</th>\n",
       "      <th>city</th>\n",
       "      <th>state</th>\n",
       "      <th>is_open</th>\n",
       "      <th>sentiment</th>\n",
       "    </tr>\n",
       "  </thead>\n",
       "  <tbody>\n",
       "    <tr>\n",
       "      <th>0</th>\n",
       "      <td>What is happening at Ralph's?  Their pizza is ...</td>\n",
       "      <td>2.0</td>\n",
       "      <td>2020-08-31 01:19:16+00:00</td>\n",
       "      <td>Sandwiches, Restaurants, Pizza, Italian</td>\n",
       "      <td>Haddon Heights</td>\n",
       "      <td>NJ</td>\n",
       "      <td>1</td>\n",
       "      <td>0</td>\n",
       "    </tr>\n",
       "    <tr>\n",
       "      <th>1</th>\n",
       "      <td>First time in Indianapolis and first time here...</td>\n",
       "      <td>2.0</td>\n",
       "      <td>2021-06-07 11:42:25+00:00</td>\n",
       "      <td>American (Traditional), Bars, Sandwiches, Nigh...</td>\n",
       "      <td>Fishers</td>\n",
       "      <td>IN</td>\n",
       "      <td>1</td>\n",
       "      <td>0</td>\n",
       "    </tr>\n",
       "    <tr>\n",
       "      <th>2</th>\n",
       "      <td>I ordered a large half pepperoni and half chee...</td>\n",
       "      <td>2.0</td>\n",
       "      <td>2019-07-13 20:49:32+00:00</td>\n",
       "      <td>Restaurants, Pizza</td>\n",
       "      <td>Trenton</td>\n",
       "      <td>NJ</td>\n",
       "      <td>1</td>\n",
       "      <td>0</td>\n",
       "    </tr>\n",
       "  </tbody>\n",
       "</table>\n",
       "</div>"
      ],
      "text/plain": [
       "                                                text  stars  \\\n",
       "0  What is happening at Ralph's?  Their pizza is ...    2.0   \n",
       "1  First time in Indianapolis and first time here...    2.0   \n",
       "2  I ordered a large half pepperoni and half chee...    2.0   \n",
       "\n",
       "                       date  \\\n",
       "0 2020-08-31 01:19:16+00:00   \n",
       "1 2021-06-07 11:42:25+00:00   \n",
       "2 2019-07-13 20:49:32+00:00   \n",
       "\n",
       "                                          categories            city state  \\\n",
       "0            Sandwiches, Restaurants, Pizza, Italian  Haddon Heights    NJ   \n",
       "1  American (Traditional), Bars, Sandwiches, Nigh...         Fishers    IN   \n",
       "2                                 Restaurants, Pizza         Trenton    NJ   \n",
       "\n",
       "   is_open  sentiment  \n",
       "0        1          0  \n",
       "1        1          0  \n",
       "2        1          0  "
      ]
     },
     "execution_count": 68,
     "metadata": {},
     "output_type": "execute_result"
    }
   ],
   "source": [
    "reviews.head(3)"
   ]
  },
  {
   "cell_type": "code",
   "execution_count": 69,
   "id": "25a0c5cd-fa54-4267-8d9f-7e31510c5f43",
   "metadata": {},
   "outputs": [
    {
     "data": {
      "text/html": [
       "<div>\n",
       "<style scoped>\n",
       "    .dataframe tbody tr th:only-of-type {\n",
       "        vertical-align: middle;\n",
       "    }\n",
       "\n",
       "    .dataframe tbody tr th {\n",
       "        vertical-align: top;\n",
       "    }\n",
       "\n",
       "    .dataframe thead th {\n",
       "        text-align: right;\n",
       "    }\n",
       "</style>\n",
       "<table border=\"1\" class=\"dataframe\">\n",
       "  <thead>\n",
       "    <tr style=\"text-align: right;\">\n",
       "      <th></th>\n",
       "      <th>text</th>\n",
       "      <th>sentiment</th>\n",
       "    </tr>\n",
       "  </thead>\n",
       "  <tbody>\n",
       "    <tr>\n",
       "      <th>0</th>\n",
       "      <td>What is happening at Ralph's?  Their pizza is ...</td>\n",
       "      <td>0</td>\n",
       "    </tr>\n",
       "    <tr>\n",
       "      <th>1</th>\n",
       "      <td>First time in Indianapolis and first time here...</td>\n",
       "      <td>0</td>\n",
       "    </tr>\n",
       "    <tr>\n",
       "      <th>2</th>\n",
       "      <td>I ordered a large half pepperoni and half chee...</td>\n",
       "      <td>0</td>\n",
       "    </tr>\n",
       "    <tr>\n",
       "      <th>3</th>\n",
       "      <td>The boyfriend loved it but I was not a fan of ...</td>\n",
       "      <td>0</td>\n",
       "    </tr>\n",
       "    <tr>\n",
       "      <th>4</th>\n",
       "      <td>I grew up eating at this place at least once a...</td>\n",
       "      <td>0</td>\n",
       "    </tr>\n",
       "  </tbody>\n",
       "</table>\n",
       "</div>"
      ],
      "text/plain": [
       "                                                text  sentiment\n",
       "0  What is happening at Ralph's?  Their pizza is ...          0\n",
       "1  First time in Indianapolis and first time here...          0\n",
       "2  I ordered a large half pepperoni and half chee...          0\n",
       "3  The boyfriend loved it but I was not a fan of ...          0\n",
       "4  I grew up eating at this place at least once a...          0"
      ]
     },
     "execution_count": 69,
     "metadata": {},
     "output_type": "execute_result"
    }
   ],
   "source": [
    "#Filter the dataset to contain only the text and sentiment values\n",
    "sent_df = reviews[['text','sentiment']]\n",
    "sent_df.head()"
   ]
  },
  {
   "cell_type": "code",
   "execution_count": 70,
   "id": "d56cae45-187b-451b-b265-1263ba334560",
   "metadata": {},
   "outputs": [
    {
     "name": "stdout",
     "output_type": "stream",
     "text": [
      "1    290781\n",
      "0    152655\n",
      "Name: sentiment, dtype: int64\n"
     ]
    },
    {
     "data": {
      "text/plain": [
       "<AxesSubplot:xlabel='sentiment', ylabel='count'>"
      ]
     },
     "execution_count": 70,
     "metadata": {},
     "output_type": "execute_result"
    },
    {
     "data": {
      "image/png": "[encoded data removed]",
      "text/plain": [
       "<Figure size 640x480 with 1 Axes>"
      ]
     },
     "metadata": {},
     "output_type": "display_data"
    }
   ],
   "source": [
    "#check values of sentiments:\n",
    "print(sent_df['sentiment'].value_counts())\n",
    "sns.countplot(data=sent_df, x=\"sentiment\", hue=\"sentiment\")"
   ]
  },
  {
   "cell_type": "code",
   "execution_count": 71,
   "id": "81ceb3f7-4567-4574-85c5-50172c0e0ece",
   "metadata": {},
   "outputs": [
    {
     "name": "stdout",
     "output_type": "stream",
     "text": [
      "152655 152655\n"
     ]
    }
   ],
   "source": [
    "#downsampling the possitive comments: \n",
    "n_samples_neg= len(sent_df[sent_df['sentiment']==0])\n",
    "pos_sent_df = resample(sent_df[sent_df['sentiment']==1],\n",
    "                       replace = False,\n",
    "                       n_samples = n_samples_neg,\n",
    "                       random_state = 100)\n",
    "print(n_samples_neg, len(pos_sent_df))"
   ]
  },
  {
   "cell_type": "code",
   "execution_count": 72,
   "id": "e643c6b7-9611-4bf3-a5d9-2d53e9f463ca",
   "metadata": {},
   "outputs": [],
   "source": [
    "#combine the dataset:\n",
    "df = shuffle(pd.concat([pos_sent_df, sent_df[sent_df['sentiment']==0]]),\n",
    "             random_state = 100)"
   ]
  },
  {
   "cell_type": "code",
   "execution_count": 73,
   "id": "60dcd24f-9d21-4c04-b601-58b858219f64",
   "metadata": {},
   "outputs": [
    {
     "name": "stdout",
     "output_type": "stream",
     "text": [
      "0    152655\n",
      "1    152655\n",
      "Name: sentiment, dtype: int64\n"
     ]
    },
    {
     "data": {
      "text/plain": [
       "<AxesSubplot:xlabel='sentiment', ylabel='count'>"
      ]
     },
     "execution_count": 73,
     "metadata": {},
     "output_type": "execute_result"
    },
    {
     "data": {
      "image/png": "[encoded data removed]",
      "text/plain": [
       "<Figure size 640x480 with 1 Axes>"
      ]
     },
     "metadata": {},
     "output_type": "display_data"
    }
   ],
   "source": [
    "#check values of sentiments:\n",
    "print(df['sentiment'].value_counts())\n",
    "sns.countplot(data=df, x=\"sentiment\", hue=\"sentiment\")"
   ]
  },
  {
   "cell_type": "code",
   "execution_count": 74,
   "id": "196d979b-0408-4315-827e-3f9e3e531b90",
   "metadata": {},
   "outputs": [
    {
     "data": {
      "text/plain": [
       "<AxesSubplot:xlabel='sentiment', ylabel='len_text'>"
      ]
     },
     "execution_count": 74,
     "metadata": {},
     "output_type": "execute_result"
    },
    {
     "data": {
      "image/png": "[encoded data removed]",
      "text/plain": [
       "<Figure size 640x480 with 1 Axes>"
      ]
     },
     "metadata": {},
     "output_type": "display_data"
    }
   ],
   "source": [
    "df['len_text'] = df['text'].apply(lambda x: len(x))\n",
    "sns.boxplot(data = df, y='len_text',x='sentiment',hue='sentiment',width=0.45)"
   ]
  },
  {
   "cell_type": "code",
   "execution_count": 75,
   "id": "974ce47e-c0f2-4250-a53b-0f23dee1a78b",
   "metadata": {},
   "outputs": [
    {
     "data": {
      "text/plain": [
       "<AxesSubplot:xlabel='len_text', ylabel='Proportion'>"
      ]
     },
     "execution_count": 75,
     "metadata": {},
     "output_type": "execute_result"
    },
    {
     "data": {
      "image/png": "[encoded data removed]",
      "text/plain": [
       "<Figure size 640x480 with 1 Axes>"
      ]
     },
     "metadata": {},
     "output_type": "display_data"
    }
   ],
   "source": [
    "sns.ecdfplot(data = df, x='len_text', hue = 'sentiment')"
   ]
  },
  {
   "cell_type": "markdown",
   "id": "1b1b5777-2a1a-47cc-8192-597faaccb1ae",
   "metadata": {},
   "source": [
    "### Data Preprocessing"
   ]
  },
  {
   "cell_type": "markdown",
   "id": "a02760f4-8559-4f61-a4c7-7d28ca544d69",
   "metadata": {},
   "source": [
    "#### NLP library"
   ]
  },
  {
   "cell_type": "code",
   "execution_count": 116,
   "id": "3742705b-9c7b-430b-85c9-191d4d1a04cd",
   "metadata": {},
   "outputs": [],
   "source": [
    "import nltk\n",
    "from nltk.corpus import stopwords\n",
    "import re, string\n",
    "from nltk.stem import WordNetLemmatizer\n",
    "from nltk import pos_tag\n",
    "from nltk.tokenize import word_tokenize\n",
    "from string import punctuation \n",
    "from sklearn.feature_extraction.text import CountVectorizer\n",
    "from sklearn.feature_extraction.text import TfidfTransformer\n",
    "from sklearn.feature_extraction.text import TfidfVectorizer\n",
    "from sklearn.model_selection import train_test_split\n",
    "from sklearn.metrics.pairwise import manhattan_distances, euclidean_distances, cosine_similarity\n",
    "\n",
    "#ML model\n",
    "from sklearn.naive_bayes import GaussianNB\n",
    "from sklearn import svm\n",
    "from xgboost import XGBClassifier\n",
    "from sklearn.model_selection import cross_val_score\n",
    "from sklearn.metrics import classification_report, confusion_matrix\n",
    "from sklearn.model_selection import GridSearchCV\n",
    "from sklearn.model_selection import RandomizedSearchCV"
   ]
  },
  {
   "cell_type": "code",
   "execution_count": 78,
   "id": "64be4509-694b-4c5c-9fca-c64adbaebc9f",
   "metadata": {},
   "outputs": [],
   "source": [
    "#!pip install xgboost"
   ]
  },
  {
   "cell_type": "code",
   "execution_count": 19,
   "id": "eebdbd12-4776-46f9-beed-a42acd7c7755",
   "metadata": {},
   "outputs": [],
   "source": [
    "#nltk.download('stopwords')\n",
    "#nltk.download('punkt')\n",
    "#nltk.download('averaged_perceptron_tagger')\n",
    "#nltk.download('wordnet')"
   ]
  },
  {
   "cell_type": "markdown",
   "id": "536fcabf-5adf-415f-b73b-3a1a99dcf341",
   "metadata": {},
   "source": [
    "#### Text normalization"
   ]
  },
  {
   "cell_type": "code",
   "execution_count": 79,
   "id": "c5ebf21c-05a1-447d-ac9c-015fb64a1a3c",
   "metadata": {},
   "outputs": [],
   "source": [
    "#Remove stopwords and punctuation:\n",
    "stopwords_en = set(stopwords.words('english'))\n",
    "punctuation_en = set(punctuation)\n",
    "stopwords_with_punct = stopwords_en.union(punctuation_en)\n",
    "\n",
    "def tag_converter(wtag):\n",
    "        \"\"\" Converts Penn Treebank tags to WordNet. \"\"\"\n",
    "        tag = {'NN':'n', 'JJ':'a','VB':'v', 'RB':'r'}\n",
    "        try:\n",
    "            return tag[wtag[:2]]\n",
    "        except:\n",
    "            return 'n'\n",
    "        \n",
    "def text_normalizer(text, all_stopwords):\n",
    "\n",
    "    #tokenization:\n",
    "    allwords = word_tokenize(text)\n",
    "    clean_words = []\n",
    "    for w in allwords:\n",
    "        if w not in all_stopwords:\n",
    "            clean_words.append(w.lower()) #use only lower case\n",
    "\n",
    "    #pos-tag (part-of-speech tagging - type of words: nound, adjectives, etc)\n",
    "    clean_words_tag = pos_tag(clean_words)\n",
    "\n",
    "    #Lemmatizer\n",
    "    clean_words_lemmatized =[]\n",
    "    wln = WordNetLemmatizer()\n",
    "    \n",
    "    for word_tag in clean_words_tag:\n",
    "        clean_words_lemmatized.append(wln.lemmatize(word=word_tag[0],pos=tag_converter(word_tag[1])))\n",
    "\n",
    "    return clean_words_lemmatized"
   ]
  },
  {
   "cell_type": "code",
   "execution_count": 80,
   "id": "6a8cc124-3ad0-4baa-9e85-9799e291ae02",
   "metadata": {},
   "outputs": [
    {
     "name": "stdout",
     "output_type": "stream",
     "text": [
      "Original text: My husband and I went on a Saturday night with friends. I was excited because the atmosphere was great and there were lots of people. (which is always a good sign ) This was a new experience for us since we had never been here before. I would say if you want to go here for a beer and atmosphere it's a great place. The waitstaff was friendly. I ordered the tenderloin which I did not like at all. My husband ordered a pizza which i would say was average. We enjoyed trying the different beers they crafted. Outside they had corn hole, jumbo Jenga and many picnic tables with live music. Music was great! We will go back another weekend to have beer and nachos with friends and listen to the music outside but we will not be going back for the food.\n",
      "\n",
      "Cleaned text: my husband i go saturday night friend i excite atmosphere great lot people always good sign this new experience u since never i would say want go beer atmosphere 's great place the waitstaff friendly i order tenderloin i like my husband order pizza would say average we enjoy try different beer craft outside corn hole jumbo jenga many picnic table live music music great we go back another weekend beer nachos friend listen music outside go back food\n"
     ]
    }
   ],
   "source": [
    "### Test case:\n",
    "original_text = df['text'][0:5]\n",
    "normed_text = original_text.apply(lambda x: \" \".join(text_normalizer(x, stopwords_with_punct)))\n",
    "print('Original text:',list(original_text)[0])\n",
    "print('\\nCleaned text:', list(normed_text)[0])"
   ]
  },
  {
   "cell_type": "code",
   "execution_count": 81,
   "id": "26b2d93e-ac4b-487a-9f21-7500734eebc9",
   "metadata": {},
   "outputs": [],
   "source": [
    "#processed the dataset:\n",
    "alltext_normed = df['text'].apply(lambda x: \" \".join(text_normalizer(x, stopwords_with_punct)))"
   ]
  },
  {
   "cell_type": "markdown",
   "id": "9937f3e1-d6b6-46bb-8aa4-2466097eb221",
   "metadata": {},
   "source": [
    "#### Train-test split"
   ]
  },
  {
   "cell_type": "code",
   "execution_count": 82,
   "id": "5626b9ce-b994-42bf-8298-63989c42d7d0",
   "metadata": {},
   "outputs": [],
   "source": [
    "X = alltext_normed\n",
    "y = df['sentiment']"
   ]
  },
  {
   "cell_type": "code",
   "execution_count": 83,
   "id": "eff01cab-347e-4e0b-ab55-00b6dcf6d9c3",
   "metadata": {},
   "outputs": [],
   "source": [
    "X_train, X_test, y_train, y_test = train_test_split(X,y, test_size = 0.3,\n",
    "                                                    random_state=100,stratify=y)"
   ]
  },
  {
   "cell_type": "code",
   "execution_count": 84,
   "id": "ed6e6208-4d6c-4930-ac66-069f588d8518",
   "metadata": {},
   "outputs": [
    {
     "data": {
      "text/plain": [
       "((213717,), (91593,))"
      ]
     },
     "execution_count": 84,
     "metadata": {},
     "output_type": "execute_result"
    }
   ],
   "source": [
    "X_train.shape, X_test.shape"
   ]
  },
  {
   "cell_type": "code",
   "execution_count": 145,
   "id": "f2dba8cb-063b-4aec-97b4-97650811198c",
   "metadata": {},
   "outputs": [],
   "source": [
    "data = {'X_train': list(X_train),\n",
    "       'X_test':list(X_test),\n",
    "       'y_train':list(y_train),\n",
    "       'y_test':list(y_test)}"
   ]
  },
  {
   "cell_type": "code",
   "execution_count": 146,
   "id": "bb53c093-8a94-4222-adce-f4503ec86310",
   "metadata": {},
   "outputs": [
    {
     "name": "stdout",
     "output_type": "stream",
     "text": [
      "{'response': 'train-test-data-221219.json upload complete'}\n"
     ]
    }
   ],
   "source": [
    "from google.cloud import storage\n",
    "import json\n",
    "\n",
    "# credentials to get access google cloud storage\n",
    "# write your key path in place of gcloud_private_key.json\n",
    "storage_client = storage.Client()\n",
    "\n",
    "# write your bucket name in place of bucket1go\n",
    "bucket_name = 'raw-data-yelp'\n",
    "BUCKET = storage_client.get_bucket(bucket_name)\n",
    "\n",
    "def create_json(json_object, filename):\n",
    "    '''\n",
    "    this function will create json object in\n",
    "    google cloud storage\n",
    "    '''\n",
    "    # create a blob\n",
    "    blob = BUCKET.blob(filename)\n",
    "    # upload the blob \n",
    "    blob.upload_from_string(\n",
    "        data=json.dumps(json_object),\n",
    "        content_type='application/json'\n",
    "        )\n",
    "    result = filename + ' upload complete'\n",
    "    return {'response' : result}\n",
    "\n",
    "# your object\n",
    "json_object = json.dumps(data)\n",
    "# set the filename of your json object\n",
    "filename = 'train-test-data-221219.json'\n",
    "\n",
    "# run the function and pass the json_object\n",
    "print(create_json(json_object, filename))"
   ]
  },
  {
   "cell_type": "markdown",
   "id": "5c9d8ae9-c73f-468c-9929-0c45e10e1139",
   "metadata": {},
   "source": [
    "#### Text Vectorization"
   ]
  },
  {
   "cell_type": "code",
   "execution_count": 100,
   "id": "b702339c-4455-43c3-8166-81ba3d82737f",
   "metadata": {},
   "outputs": [
    {
     "name": "stderr",
     "output_type": "stream",
     "text": [
      "/opt/conda/lib/python3.7/site-packages/sklearn/utils/deprecation.py:87: FutureWarning: Function get_feature_names is deprecated; get_feature_names is deprecated in 1.0 and will be removed in 1.2. Please use get_feature_names_out instead.\n",
      "  warnings.warn(msg, category=FutureWarning)\n"
     ]
    }
   ],
   "source": [
    "cv = CountVectorizer(min_df=0.05, max_df=1.) #min_df=0.05 to remove 0.5% document frequency\n",
    "X_train_vect = cv.fit_transform(X_train)\n",
    "vocab = cv.get_feature_names() #all unique words\n",
    "X_test_vect = cv.transform(X_test)"
   ]
  },
  {
   "cell_type": "code",
   "execution_count": 101,
   "id": "75ce17a1-55fb-42c9-89f1-1edd8668d065",
   "metadata": {},
   "outputs": [
    {
     "data": {
      "text/html": [
       "<div>\n",
       "<style scoped>\n",
       "    .dataframe tbody tr th:only-of-type {\n",
       "        vertical-align: middle;\n",
       "    }\n",
       "\n",
       "    .dataframe tbody tr th {\n",
       "        vertical-align: top;\n",
       "    }\n",
       "\n",
       "    .dataframe thead th {\n",
       "        text-align: right;\n",
       "    }\n",
       "</style>\n",
       "<table border=\"1\" class=\"dataframe\">\n",
       "  <thead>\n",
       "    <tr style=\"text-align: right;\">\n",
       "      <th></th>\n",
       "      <th>10</th>\n",
       "      <th>also</th>\n",
       "      <th>always</th>\n",
       "      <th>amaze</th>\n",
       "      <th>and</th>\n",
       "      <th>another</th>\n",
       "      <th>area</th>\n",
       "      <th>around</th>\n",
       "      <th>ask</th>\n",
       "      <th>atmosphere</th>\n",
       "      <th>...</th>\n",
       "      <th>way</th>\n",
       "      <th>we</th>\n",
       "      <th>well</th>\n",
       "      <th>when</th>\n",
       "      <th>wing</th>\n",
       "      <th>work</th>\n",
       "      <th>worth</th>\n",
       "      <th>would</th>\n",
       "      <th>year</th>\n",
       "      <th>you</th>\n",
       "    </tr>\n",
       "  </thead>\n",
       "  <tbody>\n",
       "    <tr>\n",
       "      <th>0</th>\n",
       "      <td>0</td>\n",
       "      <td>1</td>\n",
       "      <td>0</td>\n",
       "      <td>0</td>\n",
       "      <td>1</td>\n",
       "      <td>0</td>\n",
       "      <td>0</td>\n",
       "      <td>0</td>\n",
       "      <td>0</td>\n",
       "      <td>0</td>\n",
       "      <td>...</td>\n",
       "      <td>1</td>\n",
       "      <td>1</td>\n",
       "      <td>0</td>\n",
       "      <td>0</td>\n",
       "      <td>0</td>\n",
       "      <td>0</td>\n",
       "      <td>0</td>\n",
       "      <td>0</td>\n",
       "      <td>0</td>\n",
       "      <td>0</td>\n",
       "    </tr>\n",
       "    <tr>\n",
       "      <th>1</th>\n",
       "      <td>0</td>\n",
       "      <td>1</td>\n",
       "      <td>0</td>\n",
       "      <td>0</td>\n",
       "      <td>0</td>\n",
       "      <td>0</td>\n",
       "      <td>0</td>\n",
       "      <td>0</td>\n",
       "      <td>0</td>\n",
       "      <td>0</td>\n",
       "      <td>...</td>\n",
       "      <td>0</td>\n",
       "      <td>1</td>\n",
       "      <td>0</td>\n",
       "      <td>0</td>\n",
       "      <td>0</td>\n",
       "      <td>0</td>\n",
       "      <td>0</td>\n",
       "      <td>0</td>\n",
       "      <td>0</td>\n",
       "      <td>0</td>\n",
       "    </tr>\n",
       "    <tr>\n",
       "      <th>2</th>\n",
       "      <td>0</td>\n",
       "      <td>0</td>\n",
       "      <td>0</td>\n",
       "      <td>0</td>\n",
       "      <td>0</td>\n",
       "      <td>0</td>\n",
       "      <td>0</td>\n",
       "      <td>0</td>\n",
       "      <td>1</td>\n",
       "      <td>0</td>\n",
       "      <td>...</td>\n",
       "      <td>0</td>\n",
       "      <td>0</td>\n",
       "      <td>0</td>\n",
       "      <td>1</td>\n",
       "      <td>0</td>\n",
       "      <td>0</td>\n",
       "      <td>0</td>\n",
       "      <td>0</td>\n",
       "      <td>0</td>\n",
       "      <td>0</td>\n",
       "    </tr>\n",
       "  </tbody>\n",
       "</table>\n",
       "<p>3 rows × 186 columns</p>\n",
       "</div>"
      ],
      "text/plain": [
       "   10  also  always  amaze  and  another  area  around  ask  atmosphere  ...  \\\n",
       "0   0     1       0      0    1        0     0       0    0           0  ...   \n",
       "1   0     1       0      0    0        0     0       0    0           0  ...   \n",
       "2   0     0       0      0    0        0     0       0    1           0  ...   \n",
       "\n",
       "   way  we  well  when  wing  work  worth  would  year  you  \n",
       "0    1   1     0     0     0     0      0      0     0    0  \n",
       "1    0   1     0     0     0     0      0      0     0    0  \n",
       "2    0   0     0     1     0     0      0      0     0    0  \n",
       "\n",
       "[3 rows x 186 columns]"
      ]
     },
     "execution_count": 101,
     "metadata": {},
     "output_type": "execute_result"
    }
   ],
   "source": [
    "#View the first 100 reviews:\n",
    "pd.DataFrame(X_train_vect[0:100].toarray(),columns =vocab).head(3)"
   ]
  },
  {
   "cell_type": "code",
   "execution_count": 102,
   "id": "d6120680-3d59-4232-95a2-27e570b50682",
   "metadata": {},
   "outputs": [
    {
     "data": {
      "text/plain": [
       "((213717, 186), (91593, 186))"
      ]
     },
     "execution_count": 102,
     "metadata": {},
     "output_type": "execute_result"
    }
   ],
   "source": [
    "X_train_vect.shape, X_test_vect.shape"
   ]
  },
  {
   "cell_type": "markdown",
   "id": "ef371d72-aaaf-4977-a52b-343a3c2b5589",
   "metadata": {},
   "source": [
    "#### Normalized with tf-idf"
   ]
  },
  {
   "cell_type": "code",
   "execution_count": 103,
   "id": "4fd7f87a-073f-4190-98a4-0b46b869160c",
   "metadata": {},
   "outputs": [
    {
     "data": {
      "text/plain": [
       "((213717, 186), (91593, 186))"
      ]
     },
     "execution_count": 103,
     "metadata": {},
     "output_type": "execute_result"
    }
   ],
   "source": [
    "#Transform a count matrix to a normalized tf-idf representation\n",
    "tfi = TfidfTransformer(norm = 'l2',  use_idf=True, smooth_idf=True)\n",
    "X_train_weighted = tfi.fit_transform(X_train_vect)\n",
    "X_test_weighted = tfi.transform(X_test_vect)\n",
    "X_train_weighted.shape,X_test_weighted.shape"
   ]
  },
  {
   "cell_type": "code",
   "execution_count": 104,
   "id": "7cc963d7-6048-42b1-8df2-2e818c658dfd",
   "metadata": {},
   "outputs": [
    {
     "data": {
      "text/html": [
       "<div>\n",
       "<style scoped>\n",
       "    .dataframe tbody tr th:only-of-type {\n",
       "        vertical-align: middle;\n",
       "    }\n",
       "\n",
       "    .dataframe tbody tr th {\n",
       "        vertical-align: top;\n",
       "    }\n",
       "\n",
       "    .dataframe thead th {\n",
       "        text-align: right;\n",
       "    }\n",
       "</style>\n",
       "<table border=\"1\" class=\"dataframe\">\n",
       "  <thead>\n",
       "    <tr style=\"text-align: right;\">\n",
       "      <th></th>\n",
       "      <th>10</th>\n",
       "      <th>also</th>\n",
       "      <th>always</th>\n",
       "      <th>amaze</th>\n",
       "      <th>and</th>\n",
       "      <th>another</th>\n",
       "      <th>area</th>\n",
       "      <th>around</th>\n",
       "      <th>ask</th>\n",
       "      <th>atmosphere</th>\n",
       "      <th>...</th>\n",
       "      <th>way</th>\n",
       "      <th>we</th>\n",
       "      <th>well</th>\n",
       "      <th>when</th>\n",
       "      <th>wing</th>\n",
       "      <th>work</th>\n",
       "      <th>worth</th>\n",
       "      <th>would</th>\n",
       "      <th>year</th>\n",
       "      <th>you</th>\n",
       "    </tr>\n",
       "  </thead>\n",
       "  <tbody>\n",
       "    <tr>\n",
       "      <th>0</th>\n",
       "      <td>0.0</td>\n",
       "      <td>0.137958</td>\n",
       "      <td>0.0</td>\n",
       "      <td>0.0</td>\n",
       "      <td>0.176695</td>\n",
       "      <td>0.0</td>\n",
       "      <td>0.0</td>\n",
       "      <td>0.0</td>\n",
       "      <td>0.000000</td>\n",
       "      <td>0.0</td>\n",
       "      <td>...</td>\n",
       "      <td>0.162912</td>\n",
       "      <td>0.112540</td>\n",
       "      <td>0.0</td>\n",
       "      <td>0.000000</td>\n",
       "      <td>0.0</td>\n",
       "      <td>0.0</td>\n",
       "      <td>0.0</td>\n",
       "      <td>0.0</td>\n",
       "      <td>0.0</td>\n",
       "      <td>0.0</td>\n",
       "    </tr>\n",
       "    <tr>\n",
       "      <th>1</th>\n",
       "      <td>0.0</td>\n",
       "      <td>0.250147</td>\n",
       "      <td>0.0</td>\n",
       "      <td>0.0</td>\n",
       "      <td>0.000000</td>\n",
       "      <td>0.0</td>\n",
       "      <td>0.0</td>\n",
       "      <td>0.0</td>\n",
       "      <td>0.000000</td>\n",
       "      <td>0.0</td>\n",
       "      <td>...</td>\n",
       "      <td>0.000000</td>\n",
       "      <td>0.204058</td>\n",
       "      <td>0.0</td>\n",
       "      <td>0.000000</td>\n",
       "      <td>0.0</td>\n",
       "      <td>0.0</td>\n",
       "      <td>0.0</td>\n",
       "      <td>0.0</td>\n",
       "      <td>0.0</td>\n",
       "      <td>0.0</td>\n",
       "    </tr>\n",
       "    <tr>\n",
       "      <th>2</th>\n",
       "      <td>0.0</td>\n",
       "      <td>0.000000</td>\n",
       "      <td>0.0</td>\n",
       "      <td>0.0</td>\n",
       "      <td>0.000000</td>\n",
       "      <td>0.0</td>\n",
       "      <td>0.0</td>\n",
       "      <td>0.0</td>\n",
       "      <td>0.304082</td>\n",
       "      <td>0.0</td>\n",
       "      <td>...</td>\n",
       "      <td>0.000000</td>\n",
       "      <td>0.000000</td>\n",
       "      <td>0.0</td>\n",
       "      <td>0.362758</td>\n",
       "      <td>0.0</td>\n",
       "      <td>0.0</td>\n",
       "      <td>0.0</td>\n",
       "      <td>0.0</td>\n",
       "      <td>0.0</td>\n",
       "      <td>0.0</td>\n",
       "    </tr>\n",
       "    <tr>\n",
       "      <th>3</th>\n",
       "      <td>0.0</td>\n",
       "      <td>0.000000</td>\n",
       "      <td>0.0</td>\n",
       "      <td>0.0</td>\n",
       "      <td>0.000000</td>\n",
       "      <td>0.0</td>\n",
       "      <td>0.0</td>\n",
       "      <td>0.0</td>\n",
       "      <td>0.000000</td>\n",
       "      <td>0.0</td>\n",
       "      <td>...</td>\n",
       "      <td>0.000000</td>\n",
       "      <td>0.000000</td>\n",
       "      <td>0.0</td>\n",
       "      <td>0.000000</td>\n",
       "      <td>0.0</td>\n",
       "      <td>0.0</td>\n",
       "      <td>0.0</td>\n",
       "      <td>0.0</td>\n",
       "      <td>0.0</td>\n",
       "      <td>0.0</td>\n",
       "    </tr>\n",
       "    <tr>\n",
       "      <th>4</th>\n",
       "      <td>0.0</td>\n",
       "      <td>0.000000</td>\n",
       "      <td>0.0</td>\n",
       "      <td>0.0</td>\n",
       "      <td>0.000000</td>\n",
       "      <td>0.0</td>\n",
       "      <td>0.0</td>\n",
       "      <td>0.0</td>\n",
       "      <td>0.000000</td>\n",
       "      <td>0.0</td>\n",
       "      <td>...</td>\n",
       "      <td>0.000000</td>\n",
       "      <td>0.000000</td>\n",
       "      <td>0.0</td>\n",
       "      <td>0.000000</td>\n",
       "      <td>0.0</td>\n",
       "      <td>0.0</td>\n",
       "      <td>0.0</td>\n",
       "      <td>0.0</td>\n",
       "      <td>0.0</td>\n",
       "      <td>0.0</td>\n",
       "    </tr>\n",
       "  </tbody>\n",
       "</table>\n",
       "<p>5 rows × 186 columns</p>\n",
       "</div>"
      ],
      "text/plain": [
       "    10      also  always  amaze       and  another  area  around       ask  \\\n",
       "0  0.0  0.137958     0.0    0.0  0.176695      0.0   0.0     0.0  0.000000   \n",
       "1  0.0  0.250147     0.0    0.0  0.000000      0.0   0.0     0.0  0.000000   \n",
       "2  0.0  0.000000     0.0    0.0  0.000000      0.0   0.0     0.0  0.304082   \n",
       "3  0.0  0.000000     0.0    0.0  0.000000      0.0   0.0     0.0  0.000000   \n",
       "4  0.0  0.000000     0.0    0.0  0.000000      0.0   0.0     0.0  0.000000   \n",
       "\n",
       "   atmosphere  ...       way        we  well      when  wing  work  worth  \\\n",
       "0         0.0  ...  0.162912  0.112540   0.0  0.000000   0.0   0.0    0.0   \n",
       "1         0.0  ...  0.000000  0.204058   0.0  0.000000   0.0   0.0    0.0   \n",
       "2         0.0  ...  0.000000  0.000000   0.0  0.362758   0.0   0.0    0.0   \n",
       "3         0.0  ...  0.000000  0.000000   0.0  0.000000   0.0   0.0    0.0   \n",
       "4         0.0  ...  0.000000  0.000000   0.0  0.000000   0.0   0.0    0.0   \n",
       "\n",
       "   would  year  you  \n",
       "0    0.0   0.0  0.0  \n",
       "1    0.0   0.0  0.0  \n",
       "2    0.0   0.0  0.0  \n",
       "3    0.0   0.0  0.0  \n",
       "4    0.0   0.0  0.0  \n",
       "\n",
       "[5 rows x 186 columns]"
      ]
     },
     "execution_count": 104,
     "metadata": {},
     "output_type": "execute_result"
    }
   ],
   "source": [
    "#View the first 100 reviews:\n",
    "pd.DataFrame(X_train_weighted[0:100].toarray(),columns =vocab).head()"
   ]
  },
  {
   "cell_type": "code",
   "execution_count": null,
   "id": "8d61e39c-f905-4623-8f72-7b963c52fb25",
   "metadata": {},
   "outputs": [],
   "source": []
  },
  {
   "cell_type": "markdown",
   "id": "aa172aa7-f353-44bd-9af6-5371e5040838",
   "metadata": {},
   "source": [
    "### Machine Learning Models for Sentiment Analysis"
   ]
  },
  {
   "cell_type": "markdown",
   "id": "65f2f092-1346-4be1-b149-a3be98a2c7a1",
   "metadata": {
    "tags": []
   },
   "source": [
    "#### Gaussian Naive Bayes\n",
    "The model will estimate the propability that the review is positive or negative based on the frequency of words in the reviews occur in the train dataset with known sentiment. \n",
    "The naive assumption means that each word is conditionally independent, which neglects the word order, grammatical rules). Gaussian naive bayes model assumed that each class are distributed according to a normal (Gaussian) distribution."
   ]
  },
  {
   "cell_type": "code",
   "execution_count": 106,
   "id": "982571ca-b7cc-46b8-b207-a5847120346c",
   "metadata": {},
   "outputs": [
    {
     "data": {
      "text/plain": [
       "GaussianNB()"
      ]
     },
     "execution_count": 106,
     "metadata": {},
     "output_type": "execute_result"
    }
   ],
   "source": [
    "model_gnb = GaussianNB()\n",
    "model_gnb.fit(X_train_weighted.toarray(), y_train)"
   ]
  },
  {
   "cell_type": "code",
   "execution_count": 29,
   "id": "17f5a86c-bbd5-453a-b324-6239aac9c875",
   "metadata": {},
   "outputs": [
    {
     "data": {
      "text/plain": [
       "array([0.80444039, 0.80713083, 0.80890438, 0.80803874, 0.80518447])"
      ]
     },
     "execution_count": 29,
     "metadata": {},
     "output_type": "execute_result"
    }
   ],
   "source": [
    "model_gnb_acc = cross_val_score(estimator=model_gnb, X=X_train_weighted.toarray(), y=y_train, cv=5, n_jobs=-1)\n",
    "model_gnb_acc"
   ]
  },
  {
   "cell_type": "code",
   "execution_count": 107,
   "id": "88d848d2-ac79-40e5-8c73-0f06e0421156",
   "metadata": {},
   "outputs": [
    {
     "name": "stdout",
     "output_type": "stream",
     "text": [
      "              precision    recall  f1-score   support\n",
      "\n",
      "           0       0.81      0.80      0.80     45797\n",
      "           1       0.80      0.82      0.81     45796\n",
      "\n",
      "    accuracy                           0.81     91593\n",
      "   macro avg       0.81      0.81      0.81     91593\n",
      "weighted avg       0.81      0.81      0.81     91593\n",
      "\n"
     ]
    },
    {
     "data": {
      "text/plain": [
       "array([[36425,  9372],\n",
       "       [ 8455, 37341]])"
      ]
     },
     "execution_count": 107,
     "metadata": {},
     "output_type": "execute_result"
    }
   ],
   "source": [
    "y_pred = model_gnb.predict(X_test_weighted.toarray())\n",
    "print(classification_report(y_test,y_pred))\n",
    "confusion_matrix(y_test,y_pred)"
   ]
  },
  {
   "cell_type": "markdown",
   "id": "90ac388d-c6a4-46b0-973e-dd766eb52a3d",
   "metadata": {},
   "source": [
    "#### Support Vector Machines\n",
    "Will take a very long time, reduce the number of training samples"
   ]
  },
  {
   "cell_type": "code",
   "execution_count": 108,
   "id": "cca3e201-17f4-4b94-8598-95392c159f40",
   "metadata": {},
   "outputs": [],
   "source": [
    "small_X_train, small_y_train = resample(X_train_weighted, y_train, \n",
    "                                        random_state=5,\n",
    "                                       n_samples = 10000,\n",
    "                                       stratify = y_train)"
   ]
  },
  {
   "cell_type": "code",
   "execution_count": 109,
   "id": "454d658d-6a5b-4682-a02d-bc3a61c53f54",
   "metadata": {},
   "outputs": [
    {
     "data": {
      "text/plain": [
       "((10000, 186), (10000,))"
      ]
     },
     "execution_count": 109,
     "metadata": {},
     "output_type": "execute_result"
    }
   ],
   "source": [
    "small_X_train.shape,small_y_train.shape"
   ]
  },
  {
   "cell_type": "code",
   "execution_count": 110,
   "id": "24af3a2b-5a5a-4a80-962c-c09322ba2b2a",
   "metadata": {},
   "outputs": [
    {
     "data": {
      "text/plain": [
       "1    106859\n",
       "0    106858\n",
       "Name: sentiment, dtype: int64"
      ]
     },
     "execution_count": 110,
     "metadata": {},
     "output_type": "execute_result"
    }
   ],
   "source": [
    "y_train.value_counts()"
   ]
  },
  {
   "cell_type": "code",
   "execution_count": 111,
   "id": "12db5267-4aea-45b4-b1be-7b6c166220ab",
   "metadata": {},
   "outputs": [
    {
     "data": {
      "text/plain": [
       "SVC(kernel='linear')"
      ]
     },
     "execution_count": 111,
     "metadata": {},
     "output_type": "execute_result"
    }
   ],
   "source": [
    "model_svm = svm.SVC(kernel='linear')\n",
    "model_svm.fit(small_X_train.toarray(),small_y_train)"
   ]
  },
  {
   "cell_type": "code",
   "execution_count": 112,
   "id": "47360f06-2aaf-4a41-a3e7-2621e822e229",
   "metadata": {},
   "outputs": [
    {
     "name": "stdout",
     "output_type": "stream",
     "text": [
      "              precision    recall  f1-score   support\n",
      "\n",
      "           0       0.83      0.84      0.84     45797\n",
      "           1       0.84      0.83      0.83     45796\n",
      "\n",
      "    accuracy                           0.84     91593\n",
      "   macro avg       0.84      0.84      0.84     91593\n",
      "weighted avg       0.84      0.84      0.84     91593\n",
      "\n"
     ]
    },
    {
     "data": {
      "text/plain": [
       "array([[38630,  7167],\n",
       "       [ 7910, 37886]])"
      ]
     },
     "execution_count": 112,
     "metadata": {},
     "output_type": "execute_result"
    }
   ],
   "source": [
    "y_pred = model_svm.predict(X_test_weighted.toarray())\n",
    "print(classification_report(y_test,y_pred))\n",
    "confusion_matrix(y_test,y_pred)"
   ]
  },
  {
   "cell_type": "markdown",
   "id": "5c05196a-ca0a-467c-9fcc-ea6f0a165c94",
   "metadata": {},
   "source": [
    "#### XGBoost"
   ]
  },
  {
   "cell_type": "code",
   "execution_count": 135,
   "id": "64b197a8-0a6d-418f-9e36-86e9cf888b72",
   "metadata": {},
   "outputs": [],
   "source": [
    "classifier = XGBClassifier(tree_method='gpu_hist')\n",
    "model_xgb = classifier.fit(X_train_weighted.toarray(), y_train)"
   ]
  },
  {
   "cell_type": "code",
   "execution_count": 136,
   "id": "69ab07e7-28b3-4064-b743-6046f4783a47",
   "metadata": {},
   "outputs": [
    {
     "name": "stdout",
     "output_type": "stream",
     "text": [
      "              precision    recall  f1-score   support\n",
      "\n",
      "           0       0.84      0.85      0.84     45797\n",
      "           1       0.85      0.84      0.84     45796\n",
      "\n",
      "    accuracy                           0.84     91593\n",
      "   macro avg       0.84      0.84      0.84     91593\n",
      "weighted avg       0.84      0.84      0.84     91593\n",
      "\n"
     ]
    },
    {
     "data": {
      "text/plain": [
       "array([[38958,  6839],\n",
       "       [ 7502, 38294]])"
      ]
     },
     "execution_count": 136,
     "metadata": {},
     "output_type": "execute_result"
    }
   ],
   "source": [
    "y_pred = model_xgb.predict(X_test_weighted.toarray())\n",
    "print(classification_report(y_test,y_pred))\n",
    "confusion_matrix(y_test,y_pred)"
   ]
  },
  {
   "cell_type": "markdown",
   "id": "4aa15104-6dd1-486a-b2ef-fef32475303a",
   "metadata": {},
   "source": [
    "### Conclusions"
   ]
  },
  {
   "cell_type": "markdown",
   "id": "5eca8a06-5af9-4ff0-a2c0-e6b4719023d7",
   "metadata": {},
   "source": [
    "1. SVM and XGBoost give a more accurate results than Gaussian Naive Bayes\n",
    "2. SVM is extremely slow in large dataset and thus, the amount of train records was reduced to less than 10% original train dataset\n",
    "3. XGBoost is fastest and yield similar results to SVM method and thus is a preferable algorithm in this study.\n",
    "4. NLTK was used for text normalization, however, processing time is long and required for future optimization (e.g., i"
   ]
  }
 ],
 "metadata": {
  "environment": {
   "kernel": "python3",
   "name": "tf2-gpu.2-8.m102",
   "type": "gcloud",
   "uri": "gcr.io/deeplearning-platform-release/tf2-gpu.2-8:m102"
  },
  "kernelspec": {
   "display_name": "Python 3 (ipykernel)",
   "language": "python",
   "name": "python3"
  },
  "language_info": {
   "codemirror_mode": {
    "name": "ipython",
    "version": 3
   },
   "file_extension": ".py",
   "mimetype": "text/x-python",
   "name": "python",
   "nbconvert_exporter": "python",
   "pygments_lexer": "ipython3",
   "version": "3.7.12"
  },
  "toc-showcode": false
 },
 "nbformat": 4,
 "nbformat_minor": 5
}
